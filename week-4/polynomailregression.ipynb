{
 "cells": [
  {
   "cell_type": "code",
   "execution_count": 3,
   "id": "632d8554-3dda-44cb-961d-82485a1078c5",
   "metadata": {},
   "outputs": [
    {
     "name": "stdin",
     "output_type": "stream",
     "text": [
      "Enter X values separated by spaces:  1 2 3 4 5 6 7\n",
      "Enter y values separated by spaces:  45000 50000 60000 80000 110000 150000 200000\n",
      "Enter the degree of the polynomial:  2\n"
     ]
    },
    {
     "name": "stdout",
     "output_type": "stream",
     "text": [
      "Polynomial coefficients: [ 53571.42857143 -12083.33333333   4702.38095238]\n"
     ]
    }
   ],
   "source": [
    "import numpy as np\n",
    "\n",
    "def pl_regressor():\n",
    "    X = list(map(float, input(\"Enter X values separated by spaces: \").split()))\n",
    "    y = list(map(float, input(\"Enter y values separated by spaces: \").split()))\n",
    "    degree = int(input(\"Enter the degree of the polynomial: \"))\n",
    "    \n",
    "    X = np.array(X)\n",
    "    y = np.array(y)\n",
    "    \n",
    "    X_poly = np.vander(X, degree + 1, increasing=True)\n",
    "    coeffs = np.linalg.inv(X_poly.T @ X_poly) @ (X_poly.T @ y)\n",
    "    \n",
    "    return coeffs\n",
    "\n",
    "coeffs = pl_regressor()\n",
    "print(\"Polynomial coefficients:\",coeffs)"
   ]
  },
  {
   "cell_type": "code",
   "execution_count": null,
   "id": "696a58b1-7354-4c82-ad86-b12a626ea68d",
   "metadata": {},
   "outputs": [],
   "source": []
  }
 ],
 "metadata": {
  "kernelspec": {
   "display_name": "Python 3 (ipykernel)",
   "language": "python",
   "name": "python3"
  },
  "language_info": {
   "codemirror_mode": {
    "name": "ipython",
    "version": 3
   },
   "file_extension": ".py",
   "mimetype": "text/x-python",
   "name": "python",
   "nbconvert_exporter": "python",
   "pygments_lexer": "ipython3",
   "version": "3.12.4"
  }
 },
 "nbformat": 4,
 "nbformat_minor": 5
}
