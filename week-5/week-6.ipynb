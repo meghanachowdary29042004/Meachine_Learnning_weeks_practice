{
 "cells": [
  {
   "cell_type": "markdown",
   "id": "8f55d41e-46a4-4176-ad90-5f049b530390",
   "metadata": {},
   "source": [
    "a)  Implement custom functions for each distance measure:\r\n",
    "euclidean_distance(point1, point2)\r\n",
    "manhattan_distance(point1, point2)\r\n",
    "minkowski_distance(point1, point2, p)"
   ]
  },
  {
   "cell_type": "code",
   "execution_count": 1,
   "id": "d09cd967-5d36-4544-a167-acc4d1595696",
   "metadata": {},
   "outputs": [],
   "source": [
    "import math"
   ]
  },
  {
   "cell_type": "code",
   "execution_count": 2,
   "id": "86a1e0e7-25f8-47fe-a52e-a8c2276b5370",
   "metadata": {},
   "outputs": [],
   "source": [
    "def euclidean_distance(point1, point2):\n",
    "    return math.sqrt(sum((x - y) ** 2 for x, y in zip(point1, point2)))"
   ]
  },
  {
   "cell_type": "code",
   "execution_count": 3,
   "id": "42b63cbb-210f-42ec-b35a-d5e9144dca0d",
   "metadata": {},
   "outputs": [],
   "source": [
    "def manhattan_distance(point1, point2):\n",
    "    return sum(abs(x - y) for x, y in zip(point1, point2))"
   ]
  },
  {
   "cell_type": "code",
   "execution_count": 4,
   "id": "a275752a-9c6e-4327-8f06-a72c498d0192",
   "metadata": {},
   "outputs": [],
   "source": [
    "def minkowski_distance(point1, point2, p):\n",
    "    return (sum(abs(x - y) ** p for x, y in zip(point1, point2))) ** (1 / p)"
   ]
  },
  {
   "cell_type": "code",
   "execution_count": 5,
   "id": "88866f58-3776-4d5b-8fb1-17c24fdb8f44",
   "metadata": {},
   "outputs": [],
   "source": [
    "point1 = [1, 2, 3]\n",
    "point2 = [4, 6, 8]"
   ]
  },
  {
   "cell_type": "code",
   "execution_count": 6,
   "id": "d1a3734c-198c-425d-a464-2d74262c9894",
   "metadata": {},
   "outputs": [
    {
     "name": "stdout",
     "output_type": "stream",
     "text": [
      "Euclidean Distance: 7.0710678118654755\n",
      "Manhattan Distance: 12\n",
      "Minkowski Distance (p=3): 5.999999999999999\n"
     ]
    }
   ],
   "source": [
    "euclidean = euclidean_distance(point1, point2)\n",
    "manhattan = manhattan_distance(point1, point2)\n",
    "minkowski = minkowski_distance(point1, point2, 3) \n",
    "\n",
    "print(\"Euclidean Distance:\", euclidean)\n",
    "print(\"Manhattan Distance:\", manhattan)\n",
    "print(\"Minkowski Distance (p=3):\", minkowski)"
   ]
  },
  {
   "cell_type": "markdown",
   "id": "5370b7e3-ce09-4da3-9f38-404ac2f63d76",
   "metadata": {},
   "source": [
    "b) Implement custom functions for each classification metric \r\n",
    "confusion_matrix(y_true, y_pred)\r\n",
    "accuracy(y_true, y_pred)\r\n",
    "precision(y_true, y_pred)\r\n",
    "recall(y_true, y_pred)\r\n",
    "f1_score(y_true, y_red)\r\n"
   ]
  },
  {
   "cell_type": "code",
   "execution_count": 7,
   "id": "df39018e-0f8c-4a6c-9e08-c73b71b03287",
   "metadata": {},
   "outputs": [],
   "source": [
    "def confusion_matrix(y_true, y_pred):\n",
    "    tp = sum((yt == 1 and yp == 1) for yt, yp in zip(y_true, y_pred))\n",
    "    tn = sum((yt == 0 and yp == 0) for yt, yp in zip(y_true, y_pred))\n",
    "    fp = sum((yt == 0 and yp == 1) for yt, yp in zip(y_true, y_pred))\n",
    "    fn = sum((yt == 1 and yp == 0) for yt, yp in zip(y_true, y_pred))\n",
    "    return {'TP': tp, 'TN': tn, 'FP': fp, 'FN': fn}"
   ]
  },
  {
   "cell_type": "code",
   "execution_count": 8,
   "id": "3952b031-3b65-4462-8583-2ec9d19aefc2",
   "metadata": {},
   "outputs": [],
   "source": [
    "def print_confusion_matrix(cm):\n",
    "    print(f\"Confusion Matrix:\")\n",
    "    print(f\"                Predicted Positive   Predicted Negative\")\n",
    "    print(f\"Actual Positive        {cm['TP']}                    {cm['FN']}\")\n",
    "    print(f\"Actual Negative        {cm['FP']}                    {cm['TN']}\")"
   ]
  },
  {
   "cell_type": "code",
   "execution_count": 9,
   "id": "f5d328b3-e849-430c-977b-cf96735f5b6b",
   "metadata": {},
   "outputs": [],
   "source": [
    "def accuracy(y_true, y_pred):\n",
    "    cm = confusion_matrix(y_true, y_pred)\n",
    "    return (cm['TP'] + cm['TN']) / len(y_true)"
   ]
  },
  {
   "cell_type": "code",
   "execution_count": 10,
   "id": "0a4c7195-e014-4186-af24-bee3fdb127dc",
   "metadata": {},
   "outputs": [],
   "source": [
    "def precision(y_true, y_pred):\n",
    "    cm = confusion_matrix(y_true, y_pred)\n",
    "    return cm['TP'] / (cm['TP'] + cm['FP']) if (cm['TP'] + cm['FP']) != 0 else 0\n"
   ]
  },
  {
   "cell_type": "code",
   "execution_count": 11,
   "id": "287f429e-fcd5-4a92-8dfb-09b180303d2f",
   "metadata": {},
   "outputs": [],
   "source": [
    "def recall(y_true, y_pred):\n",
    "    cm = confusion_matrix(y_true, y_pred)\n",
    "    return cm['TP'] / (cm['TP'] + cm['FN']) if (cm['TP'] + cm['FN']) != 0 else 0"
   ]
  },
  {
   "cell_type": "code",
   "execution_count": 12,
   "id": "c9ab950f-736e-45c6-ba40-2570a395690e",
   "metadata": {},
   "outputs": [],
   "source": [
    "def f1_score(y_true, y_pred):\n",
    "    prec = precision(y_true, y_pred)\n",
    "    rec = recall(y_true, y_pred)\n",
    "    return 2 * (prec * rec) / (prec + rec) if (prec + rec) != 0 else 0"
   ]
  },
  {
   "cell_type": "code",
   "execution_count": 13,
   "id": "c4a98082-4aad-45df-b941-4093bcc83718",
   "metadata": {},
   "outputs": [],
   "source": [
    "y_true = [1, 0, 1, 1, 0, 1, 0, 0, 1, 0]\n",
    "y_pred = [1, 0, 1, 0, 0, 1, 0, 1, 1, 0]"
   ]
  },
  {
   "cell_type": "code",
   "execution_count": 14,
   "id": "204359ee-8561-4671-844c-62e5ea51b4d5",
   "metadata": {},
   "outputs": [
    {
     "name": "stdout",
     "output_type": "stream",
     "text": [
      "Confusion Matrix:\n",
      "                Predicted Positive   Predicted Negative\n",
      "Actual Positive        4                    1\n",
      "Actual Negative        1                    4\n",
      "Accuracy: 0.8\n",
      "Precision: 0.8\n",
      "Recall: 0.8\n",
      "F1 Score: 0.8000000000000002\n"
     ]
    }
   ],
   "source": [
    "conf_matrix = confusion_matrix(y_true, y_pred)\n",
    "acc = accuracy(y_true, y_pred)\n",
    "prec = precision(y_true, y_pred)\n",
    "rec = recall(y_true, y_pred)\n",
    "f1 = f1_score(y_true, y_pred)\n",
    "\n",
    "print_confusion_matrix(conf_matrix)\n",
    "print(\"Accuracy:\", acc)\n",
    "print(\"Precision:\", prec)\n",
    "print(\"Recall:\", rec)\n",
    "print(\"F1 Score:\", f1)"
   ]
  },
  {
   "cell_type": "markdown",
   "id": "ff91dd42-e8ea-4c15-95cb-f8cdd0e4d1e8",
   "metadata": {},
   "source": [
    "c) Consider Iris Dataset\n",
    "Spit (70% for Training, 30% for Testing)\n",
    "Train KNN classifier with different K values from K=1 to 10.\n",
    "Identify the best K value in the range (1,10)\n",
    "Evaluate your model on the Test set by computing classification metrics."
   ]
  },
  {
   "cell_type": "code",
   "execution_count": 15,
   "id": "ccbaf29a-4e04-4bd2-b50a-e377ae7bbe90",
   "metadata": {},
   "outputs": [],
   "source": [
    "import pandas as pd\n",
    "from sklearn.model_selection import train_test_split\n",
    "from sklearn.neighbors import KNeighborsClassifier\n",
    "from sklearn.metrics import accuracy_score, classification_report\n",
    "import matplotlib.pyplot as plt"
   ]
  },
  {
   "cell_type": "code",
   "execution_count": 21,
   "id": "dad5c824-c269-4fec-a479-25ebda15e4d6",
   "metadata": {},
   "outputs": [],
   "source": [
    "data = pd.read_csv(r'D:\\3_YEAR_5_SEM\\303_MACHINE_LEARNING\\week-5\\iris - iris.csv')\n",
    "\n",
    "X = data[['sepal.length', 'sepal.width', 'petal.length', 'petal.width']]\n",
    "y = data['variety']\n",
    "\n"
   ]
  },
  {
   "cell_type": "code",
   "execution_count": 22,
   "id": "dcccfcf1-c128-4051-b75e-e0a0a846803a",
   "metadata": {},
   "outputs": [
    {
     "name": "stdout",
     "output_type": "stream",
     "text": [
      "\n",
      "Classification report for K=1:\n",
      "               precision    recall  f1-score   support\n",
      "\n",
      "      Setosa       1.00      1.00      1.00        19\n",
      "  Versicolor       1.00      1.00      1.00        13\n",
      "   Virginica       1.00      1.00      1.00        13\n",
      "\n",
      "    accuracy                           1.00        45\n",
      "   macro avg       1.00      1.00      1.00        45\n",
      "weighted avg       1.00      1.00      1.00        45\n",
      "\n",
      "\n",
      "Classification report for K=2:\n",
      "               precision    recall  f1-score   support\n",
      "\n",
      "      Setosa       1.00      1.00      1.00        19\n",
      "  Versicolor       1.00      1.00      1.00        13\n",
      "   Virginica       1.00      1.00      1.00        13\n",
      "\n",
      "    accuracy                           1.00        45\n",
      "   macro avg       1.00      1.00      1.00        45\n",
      "weighted avg       1.00      1.00      1.00        45\n",
      "\n",
      "\n",
      "Classification report for K=3:\n",
      "               precision    recall  f1-score   support\n",
      "\n",
      "      Setosa       1.00      1.00      1.00        19\n",
      "  Versicolor       1.00      1.00      1.00        13\n",
      "   Virginica       1.00      1.00      1.00        13\n",
      "\n",
      "    accuracy                           1.00        45\n",
      "   macro avg       1.00      1.00      1.00        45\n",
      "weighted avg       1.00      1.00      1.00        45\n",
      "\n",
      "\n",
      "Classification report for K=4:\n",
      "               precision    recall  f1-score   support\n",
      "\n",
      "      Setosa       1.00      1.00      1.00        19\n",
      "  Versicolor       1.00      1.00      1.00        13\n",
      "   Virginica       1.00      1.00      1.00        13\n",
      "\n",
      "    accuracy                           1.00        45\n",
      "   macro avg       1.00      1.00      1.00        45\n",
      "weighted avg       1.00      1.00      1.00        45\n",
      "\n",
      "\n",
      "Classification report for K=5:\n",
      "               precision    recall  f1-score   support\n",
      "\n",
      "      Setosa       1.00      1.00      1.00        19\n",
      "  Versicolor       1.00      1.00      1.00        13\n",
      "   Virginica       1.00      1.00      1.00        13\n",
      "\n",
      "    accuracy                           1.00        45\n",
      "   macro avg       1.00      1.00      1.00        45\n",
      "weighted avg       1.00      1.00      1.00        45\n",
      "\n",
      "\n",
      "Classification report for K=6:\n",
      "               precision    recall  f1-score   support\n",
      "\n",
      "      Setosa       1.00      1.00      1.00        19\n",
      "  Versicolor       1.00      1.00      1.00        13\n",
      "   Virginica       1.00      1.00      1.00        13\n",
      "\n",
      "    accuracy                           1.00        45\n",
      "   macro avg       1.00      1.00      1.00        45\n",
      "weighted avg       1.00      1.00      1.00        45\n",
      "\n",
      "\n",
      "Classification report for K=7:\n",
      "               precision    recall  f1-score   support\n",
      "\n",
      "      Setosa       1.00      1.00      1.00        19\n",
      "  Versicolor       1.00      1.00      1.00        13\n",
      "   Virginica       1.00      1.00      1.00        13\n",
      "\n",
      "    accuracy                           1.00        45\n",
      "   macro avg       1.00      1.00      1.00        45\n",
      "weighted avg       1.00      1.00      1.00        45\n",
      "\n",
      "\n",
      "Classification report for K=8:\n",
      "               precision    recall  f1-score   support\n",
      "\n",
      "      Setosa       1.00      1.00      1.00        19\n",
      "  Versicolor       1.00      1.00      1.00        13\n",
      "   Virginica       1.00      1.00      1.00        13\n",
      "\n",
      "    accuracy                           1.00        45\n",
      "   macro avg       1.00      1.00      1.00        45\n",
      "weighted avg       1.00      1.00      1.00        45\n",
      "\n",
      "\n",
      "Classification report for K=9:\n",
      "               precision    recall  f1-score   support\n",
      "\n",
      "      Setosa       1.00      1.00      1.00        19\n",
      "  Versicolor       1.00      1.00      1.00        13\n",
      "   Virginica       1.00      1.00      1.00        13\n",
      "\n",
      "    accuracy                           1.00        45\n",
      "   macro avg       1.00      1.00      1.00        45\n",
      "weighted avg       1.00      1.00      1.00        45\n",
      "\n",
      "\n",
      "Classification report for K=10:\n",
      "               precision    recall  f1-score   support\n",
      "\n",
      "      Setosa       1.00      1.00      1.00        19\n",
      "  Versicolor       1.00      1.00      1.00        13\n",
      "   Virginica       1.00      1.00      1.00        13\n",
      "\n",
      "    accuracy                           1.00        45\n",
      "   macro avg       1.00      1.00      1.00        45\n",
      "weighted avg       1.00      1.00      1.00        45\n",
      "\n"
     ]
    },
    {
     "data": {
      "image/png": "[encoded data removed]",
      "text/plain": [
       "<Figure size 1000x600 with 1 Axes>"
      ]
     },
     "metadata": {},
     "output_type": "display_data"
    },
    {
     "name": "stdout",
     "output_type": "stream",
     "text": [
      "The best K value is: 1\n"
     ]
    }
   ],
   "source": [
    "X_train, X_test, y_train, y_test = train_test_split(X, y, test_size=0.3, random_state=42)\n",
    "\n",
    "\n",
    "accuracies = []\n",
    "\n",
    "\n",
    "for k in range(1, 11):\n",
    "    # Initialize the KNN classifier with current K\n",
    "    knn = KNeighborsClassifier(n_neighbors=k)\n",
    "    \n",
    "    # Train the classifier\n",
    "    knn.fit(X_train, y_train)\n",
    "    \n",
    "    # Predict on the test set\n",
    "    y_pred = knn.predict(X_test)\n",
    "    \n",
    "    # Calculate accuracy and store it\n",
    "    accuracy = accuracy_score(y_test, y_pred)\n",
    "    accuracies.append(accuracy)\n",
    "    \n",
    "    # Display classification report for the current K\n",
    "    print(f\"\\nClassification report for K={k}:\\n\", classification_report(y_test, y_pred))\n",
    "\n",
    "\n",
    "plt.figure(figsize=(10, 6))\n",
    "plt.plot(range(1, 11), accuracies, marker='o', color='b')\n",
    "plt.title('Accuracy vs. K Value')\n",
    "plt.xlabel('K Value')\n",
    "plt.ylabel('Accuracy')\n",
    "plt.xticks(range(1, 11))\n",
    "plt.grid(True)\n",
    "plt.show()\n",
    "\n",
    "\n",
    "best_k = accuracies.index(max(accuracies)) + 1\n",
    "print(f'The best K value is: {best_k}')\n"
   ]
  },
  {
   "cell_type": "code",
   "execution_count": null,
   "id": "603c2e2b-ba0d-4088-9a92-b4c34dc80bb3",
   "metadata": {},
   "outputs": [],
   "source": []
  }
 ],
 "metadata": {
  "kernelspec": {
   "display_name": "Python 3 (ipykernel)",
   "language": "python",
   "name": "python3"
  },
  "language_info": {
   "codemirror_mode": {
    "name": "ipython",
    "version": 3
   },
   "file_extension": ".py",
   "mimetype": "text/x-python",
   "name": "python",
   "nbconvert_exporter": "python",
   "pygments_lexer": "ipython3",
   "version": "3.12.4"
  }
 },
 "nbformat": 4,
 "nbformat_minor": 5
}
