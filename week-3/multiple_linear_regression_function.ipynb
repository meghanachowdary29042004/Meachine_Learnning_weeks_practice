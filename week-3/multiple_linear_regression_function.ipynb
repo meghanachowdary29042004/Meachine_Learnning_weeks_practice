{
 "cells": [
  {
   "cell_type": "code",
   "execution_count": 5,
   "id": "3d64387a-155b-4424-8749-f1bda587da8a",
   "metadata": {},
   "outputs": [],
   "source": [
    "import numpy as np"
   ]
  },
  {
   "cell_type": "code",
   "execution_count": 6,
   "id": "53a3bb6b-00ad-4a98-88a9-b7c6701a3017",
   "metadata": {},
   "outputs": [],
   "source": [
    "\n",
    "def multiple_linear_regression(X, Y):\n",
    "    # Add a column of ones to X to account for the intercept term\n",
    "    X = np.hstack([np.ones((X.shape[0], 1)), X])\n",
    "    \n",
    "    # Compute (X^T X)^-1 X^T Y\n",
    "    X_transpose = X.T\n",
    "    X_transpose_X = X_transpose.dot(X)\n",
    "    X_transpose_X_inv = np.linalg.inv(X_transpose_X)\n",
    "    X_transpose_Y = X_transpose.dot(Y)\n",
    "    beta = X_transpose_X_inv.dot(X_transpose_Y)\n",
    "    \n",
    "    return beta\n",
    "\n",
    "\n"
   ]
  },
  {
   "cell_type": "code",
   "execution_count": 7,
   "id": "c16f6c2d-73ed-46bd-bba2-8505d10e1ebe",
   "metadata": {},
   "outputs": [
    {
     "name": "stdin",
     "output_type": "stream",
     "text": [
      "Enter a list of x values (comma-separated):  1,2,3,4\n",
      "Enter a list of y values (comma-separated):  1,4,9,16\n"
     ]
    },
    {
     "name": "stdout",
     "output_type": "stream",
     "text": [
      "Coefficients: [-5.  5.]\n"
     ]
    }
   ],
   "source": [
    "# Input from user\n",
    "x_input = input(\"Enter a list of x values (comma-separated): \")\n",
    "y_input = input(\"Enter a list of y values (comma-separated): \")\n",
    "\n",
    "# Convert inputs to NumPy arrays\n",
    "X = np.array(list(map(float, x_input.split(','))))\n",
    "Y = np.array(list(map(float, y_input.split(','))))\n",
    "\n",
    "# Reshape X to be a 2D column vector\n",
    "X = X.reshape(-1, 1)\n",
    "\n",
    "# Compute coefficients\n",
    "B = multiple_linear_regression(X, Y)\n",
    "print(\"Coefficients:\",B)"
   ]
  },
  {
   "cell_type": "code",
   "execution_count": null,
   "id": "a48caaf2-50ed-4c3d-8554-c0363df4096f",
   "metadata": {},
   "outputs": [],
   "source": []
  }
 ],
 "metadata": {
  "kernelspec": {
   "display_name": "Python 3 (ipykernel)",
   "language": "python",
   "name": "python3"
  },
  "language_info": {
   "codemirror_mode": {
    "name": "ipython",
    "version": 3
   },
   "file_extension": ".py",
   "mimetype": "text/x-python",
   "name": "python",
   "nbconvert_exporter": "python",
   "pygments_lexer": "ipython3",
   "version": "3.12.4"
  }
 },
 "nbformat": 4,
 "nbformat_minor": 5
}
