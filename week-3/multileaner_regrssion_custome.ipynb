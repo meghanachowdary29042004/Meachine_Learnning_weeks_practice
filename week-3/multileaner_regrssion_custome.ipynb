{
 "cells": [
  {
   "cell_type": "code",
   "execution_count": 36,
   "id": "83957aa3-43ab-4744-8609-483856bfebd3",
   "metadata": {},
   "outputs": [],
   "source": [
    "import numpy as np\n",
    "\n",
    "from numpy import linalg"
   ]
  },
  {
   "cell_type": "code",
   "execution_count": 37,
   "id": "241d0db6-db2a-4e04-b5f5-32bf052e31b3",
   "metadata": {},
   "outputs": [],
   "source": [
    "X = [[1, 1, 1,1], [1,2,3,4]]\n",
    "Y=[[1,4,9,16]]\n",
    "\n"
   ]
  },
  {
   "cell_type": "code",
   "execution_count": 38,
   "id": "9fda257c-ea88-41f2-80ac-f820978723eb",
   "metadata": {},
   "outputs": [],
   "source": [
    "def transpose(X):\n",
    "    return [[X[j][i] for j in range(len(X))] for i in range(len(X[0]))]"
   ]
  },
  {
   "cell_type": "code",
   "execution_count": 49,
   "id": "22b68f90-82b3-4381-9543-02bbccf8650e",
   "metadata": {},
   "outputs": [],
   "source": [
    "\n",
    "def multiple_linear_regression(X, Y):\n",
    "    TX = transpose(X)  # Corrected indentation\n",
    "    A = np.dot(TX, X)  # Matrix product\n",
    "    A_inv = np.linalg.inv(A)\n",
    "    D = np.dot(TX, Y)\n",
    "    B = np.dot(A_inv, D)\n",
    "    return B"
   ]
  },
  {
   "cell_type": "code",
   "execution_count": 50,
   "id": "e2db185d-a0ca-4996-9f01-3e2fc1f3b571",
   "metadata": {},
   "outputs": [
    {
     "ename": "LinAlgError",
     "evalue": "Singular matrix",
     "output_type": "error",
     "traceback": [
      "\u001b[1;31m---------------------------------------------------------------------------\u001b[0m",
      "\u001b[1;31mLinAlgError\u001b[0m                               Traceback (most recent call last)",
      "Cell \u001b[1;32mIn[50], line 1\u001b[0m\n\u001b[1;32m----> 1\u001b[0m \u001b[38;5;28mprint\u001b[39m(multiple_linear_regression(X, Y))\n",
      "Cell \u001b[1;32mIn[49], line 4\u001b[0m, in \u001b[0;36mmultiple_linear_regression\u001b[1;34m(X, Y)\u001b[0m\n\u001b[0;32m      2\u001b[0m TX \u001b[38;5;241m=\u001b[39m transpose(X)  \u001b[38;5;66;03m# Corrected indentation\u001b[39;00m\n\u001b[0;32m      3\u001b[0m A \u001b[38;5;241m=\u001b[39m np\u001b[38;5;241m.\u001b[39mdot(TX, X)  \u001b[38;5;66;03m# Matrix product\u001b[39;00m\n\u001b[1;32m----> 4\u001b[0m A_inv \u001b[38;5;241m=\u001b[39m np\u001b[38;5;241m.\u001b[39mlinalg\u001b[38;5;241m.\u001b[39minv(A)\n\u001b[0;32m      5\u001b[0m D \u001b[38;5;241m=\u001b[39m np\u001b[38;5;241m.\u001b[39mdot(TX, Y)\n\u001b[0;32m      6\u001b[0m B \u001b[38;5;241m=\u001b[39m np\u001b[38;5;241m.\u001b[39mdot(A_inv, D)\n",
      "File \u001b[1;32m~\\anaconda3\\Lib\\site-packages\\numpy\\linalg\\linalg.py:561\u001b[0m, in \u001b[0;36minv\u001b[1;34m(a)\u001b[0m\n\u001b[0;32m    559\u001b[0m signature \u001b[38;5;241m=\u001b[39m \u001b[38;5;124m'\u001b[39m\u001b[38;5;124mD->D\u001b[39m\u001b[38;5;124m'\u001b[39m \u001b[38;5;28;01mif\u001b[39;00m isComplexType(t) \u001b[38;5;28;01melse\u001b[39;00m \u001b[38;5;124m'\u001b[39m\u001b[38;5;124md->d\u001b[39m\u001b[38;5;124m'\u001b[39m\n\u001b[0;32m    560\u001b[0m extobj \u001b[38;5;241m=\u001b[39m get_linalg_error_extobj(_raise_linalgerror_singular)\n\u001b[1;32m--> 561\u001b[0m ainv \u001b[38;5;241m=\u001b[39m _umath_linalg\u001b[38;5;241m.\u001b[39minv(a, signature\u001b[38;5;241m=\u001b[39msignature, extobj\u001b[38;5;241m=\u001b[39mextobj)\n\u001b[0;32m    562\u001b[0m \u001b[38;5;28;01mreturn\u001b[39;00m wrap(ainv\u001b[38;5;241m.\u001b[39mastype(result_t, copy\u001b[38;5;241m=\u001b[39m\u001b[38;5;28;01mFalse\u001b[39;00m))\n",
      "File \u001b[1;32m~\\anaconda3\\Lib\\site-packages\\numpy\\linalg\\linalg.py:112\u001b[0m, in \u001b[0;36m_raise_linalgerror_singular\u001b[1;34m(err, flag)\u001b[0m\n\u001b[0;32m    111\u001b[0m \u001b[38;5;28;01mdef\u001b[39;00m \u001b[38;5;21m_raise_linalgerror_singular\u001b[39m(err, flag):\n\u001b[1;32m--> 112\u001b[0m     \u001b[38;5;28;01mraise\u001b[39;00m LinAlgError(\u001b[38;5;124m\"\u001b[39m\u001b[38;5;124mSingular matrix\u001b[39m\u001b[38;5;124m\"\u001b[39m)\n",
      "\u001b[1;31mLinAlgError\u001b[0m: Singular matrix"
     ]
    }
   ],
   "source": [
    "print(multiple_linear_regression(X, Y))"
   ]
  },
  {
   "cell_type": "code",
   "execution_count": null,
   "id": "70857a05-cf36-4a97-8615-0282e4e8ec7b",
   "metadata": {},
   "outputs": [],
   "source": []
  }
 ],
 "metadata": {
  "kernelspec": {
   "display_name": "Python 3 (ipykernel)",
   "language": "python",
   "name": "python3"
  },
  "language_info": {
   "codemirror_mode": {
    "name": "ipython",
    "version": 3
   },
   "file_extension": ".py",
   "mimetype": "text/x-python",
   "name": "python",
   "nbconvert_exporter": "python",
   "pygments_lexer": "ipython3",
   "version": "3.12.4"
  }
 },
 "nbformat": 4,
 "nbformat_minor": 5
}
