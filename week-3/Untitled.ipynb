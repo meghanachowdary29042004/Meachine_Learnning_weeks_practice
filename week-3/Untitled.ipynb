{
 "cells": [
  {
   "cell_type": "code",
   "execution_count": 31,
   "id": "58e0d7a9-0cd1-439c-aabc-3111c981103c",
   "metadata": {},
   "outputs": [],
   "source": [
    "import numpy as np\n"
   ]
  },
  {
   "cell_type": "code",
   "execution_count": 32,
   "id": "cfbd7475-f4c2-43fa-a6b5-788dcdb943f3",
   "metadata": {},
   "outputs": [],
   "source": [
    "\n",
    "def multiple_linear_regression(X, Y):\n",
    "    # Add a column of ones to X to account for the intercept term\n",
    "    X = np.hstack([np.ones((X.shape[0], 1)), X])\n",
    "    \n",
    "    # Compute (X^T X)^-1 X^T Y\n",
    "    X_transpose = X.T\n",
    "    X_transpose_X = X_transpose.dot(X)\n",
    "    X_transpose_X_inv = np.linalg.inv(X_transpose_X)\n",
    "    X_transpose_Y = X_transpose.dot(Y)\n",
    "    beta = X_transpose_X_inv.dot(X_transpose_Y)\n",
    "    \n",
    "    return beta\n",
    "\n",
    "# Input from user\n",
    "x_input = input(\"Enter a list of x values (comma-separated): \")\n",
    "y_input = input(\"Enter a list of y values (comma-separated): \")\n",
    "\n",
    "# Convert inputs to NumPy arrays\n",
    "X = np.array([list(map(float, x_input.split(',')))])\n",
    "Y = np.array(list(map(float, y_input.split(','))))\n",
    "\n",
    "# Ensure X is 2D\n",
    "X = X.T  # Transpose X to match the expected shape\n",
    "\n",
    "# Compute coefficients\n",
    "coefficients = multiple_linear_regression(X, Y)\n",
    "print(\"Coefficients:\", coefficients)\n"
   ]
  },
  {
   "cell_type": "code",
   "execution_count": 33,
   "id": "52fd8be0-6c55-441a-83dd-9ca7b3587803",
   "metadata": {},
   "outputs": [
    {
     "name": "stdin",
     "output_type": "stream",
     "text": [
      "Enter a list of x values (comma-separated):  1,2,3,4\n",
      "Enter a list of y values (comma-separated):  1,4,9,16\n"
     ]
    },
    {
     "ename": "NameError",
     "evalue": "name 'X_transpos' is not defined",
     "output_type": "error",
     "traceback": [
      "\u001b[1;31m---------------------------------------------------------------------------\u001b[0m",
      "\u001b[1;31mNameError\u001b[0m                                 Traceback (most recent call last)",
      "Cell \u001b[1;32mIn[33], line 12\u001b[0m\n\u001b[0;32m      9\u001b[0m X \u001b[38;5;241m=\u001b[39m X\u001b[38;5;241m.\u001b[39mT  \n\u001b[0;32m     11\u001b[0m \u001b[38;5;66;03m# Compute coefficients\u001b[39;00m\n\u001b[1;32m---> 12\u001b[0m coefficients \u001b[38;5;241m=\u001b[39m multiple_linear_regression(X, Y)\n\u001b[0;32m     13\u001b[0m \u001b[38;5;28mprint\u001b[39m(\u001b[38;5;124m\"\u001b[39m\u001b[38;5;124mCoefficients:\u001b[39m\u001b[38;5;124m\"\u001b[39m, coefficients)\n",
      "Cell \u001b[1;32mIn[32], line 9\u001b[0m, in \u001b[0;36mmultiple_linear_regression\u001b[1;34m(X, Y)\u001b[0m\n\u001b[0;32m      7\u001b[0m X_transpose_X \u001b[38;5;241m=\u001b[39m X_transpose\u001b[38;5;241m.\u001b[39mdot(X)\n\u001b[0;32m      8\u001b[0m X_transpose_X_inv \u001b[38;5;241m=\u001b[39m np\u001b[38;5;241m.\u001b[39mlinalg\u001b[38;5;241m.\u001b[39minv(X_transpose_X)\n\u001b[1;32m----> 9\u001b[0m X_transpose_Y \u001b[38;5;241m=\u001b[39m X_transpos\u001b[38;5;241m.\u001b[39mdot(Y)\n\u001b[0;32m     10\u001b[0m beta \u001b[38;5;241m=\u001b[39m X_transpose_X_inv\u001b[38;5;241m.\u001b[39mdot(X_transpose_Y)\n\u001b[0;32m     12\u001b[0m \u001b[38;5;28;01mreturn\u001b[39;00m beta\n",
      "\u001b[1;31mNameError\u001b[0m: name 'X_transpos' is not defined"
     ]
    }
   ],
   "source": [
    "\n",
    "x_input = input(\"Enter a list of x values (comma-separated): \")\n",
    "y_input = input(\"Enter a list of y values (comma-separated): \")\n",
    "\n",
    "\n",
    "X = np.array([list(map(float, x_input.split(',')))])\n",
    "Y = np.array(list(map(float, y_input.split(','))))\n",
    "\n",
    "# Ensure X is 2D\n",
    "X = X.T  \n",
    "\n",
    "# Compute coefficients\n",
    "coefficients = multiple_linear_regression(X, Y)\n",
    "print(\"Coefficients:\", coefficients)"
   ]
  },
  {
   "cell_type": "code",
   "execution_count": null,
   "id": "59f1f224-0b6f-44ff-ba55-9b004dc9f40d",
   "metadata": {},
   "outputs": [],
   "source": []
  }
 ],
 "metadata": {
  "kernelspec": {
   "display_name": "Python 3 (ipykernel)",
   "language": "python",
   "name": "python3"
  },
  "language_info": {
   "codemirror_mode": {
    "name": "ipython",
    "version": 3
   },
   "file_extension": ".py",
   "mimetype": "text/x-python",
   "name": "python",
   "nbconvert_exporter": "python",
   "pygments_lexer": "ipython3",
   "version": "3.12.4"
  }
 },
 "nbformat": 4,
 "nbformat_minor": 5
}
