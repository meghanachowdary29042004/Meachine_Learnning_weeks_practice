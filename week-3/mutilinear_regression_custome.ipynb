{
 "cells": [
  {
   "cell_type": "code",
   "execution_count": 1,
   "id": "d3665049-bbbe-4a3d-aaad-53e31c102869",
   "metadata": {},
   "outputs": [],
   "source": [
    "import numpy as np"
   ]
  },
  {
   "cell_type": "code",
   "execution_count": 2,
   "id": "d1716558-f3b6-4f08-a5dd-cd1967bd0380",
   "metadata": {},
   "outputs": [],
   "source": [
    "\n",
    "def multiple_linear_regression(X, Y):\n",
    "    # Add a column of ones to X to account for the intercept term\n",
    "    X = np.hstack([np.ones((X.shape[0], 1)), X])\n",
    "    \n",
    "    # Compute (X^T X)^-1 X^T Y\n",
    "    X_transpose = X.T\n",
    "    X_transpose_X = X_transpose.dot(X)\n",
    "    X_transpose_X_inv = np.linalg.inv(X_transpose_X)\n",
    "    X_transpose_Y = X_transpose.dot(Y)\n",
    "    beta = X_transpose_X_inv.dot(X_transpose_Y)\n",
    "    \n",
    "    return beta"
   ]
  },
  {
   "cell_type": "code",
   "execution_count": 3,
   "id": "870f4a9f-57e4-4640-9f7e-dc1007963ef5",
   "metadata": {},
   "outputs": [],
   "source": [
    "X = np.array([[1], [2], [3], [4]])\n",
    "Y = np.array([1, 4, 9, 16])"
   ]
  },
  {
   "cell_type": "code",
   "execution_count": 4,
   "id": "5d69454e-581b-4003-b1ed-ae6588dbfc8c",
   "metadata": {},
   "outputs": [],
   "source": [
    "B = multiple_linear_regression(X, Y)"
   ]
  },
  {
   "cell_type": "code",
   "execution_count": 5,
   "id": "d3f0e5ea-e96f-4145-a680-6a6a65824364",
   "metadata": {},
   "outputs": [
    {
     "name": "stdout",
     "output_type": "stream",
     "text": [
      "Coefficients: [-5.  5.]\n"
     ]
    }
   ],
   "source": [
    "print(\"Coefficients:\", B)"
   ]
  },
  {
   "cell_type": "code",
   "execution_count": null,
   "id": "56682a5d-f043-4a7b-b77a-035a67c26564",
   "metadata": {},
   "outputs": [],
   "source": []
  }
 ],
 "metadata": {
  "kernelspec": {
   "display_name": "Python 3 (ipykernel)",
   "language": "python",
   "name": "python3"
  },
  "language_info": {
   "codemirror_mode": {
    "name": "ipython",
    "version": 3
   },
   "file_extension": ".py",
   "mimetype": "text/x-python",
   "name": "python",
   "nbconvert_exporter": "python",
   "pygments_lexer": "ipython3",
   "version": "3.12.4"
  }
 },
 "nbformat": 4,
 "nbformat_minor": 5
}
