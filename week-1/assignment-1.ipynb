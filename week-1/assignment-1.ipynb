{
 "cells": [
  {
   "cell_type": "markdown",
   "id": "1ba516ca-5bbd-4e10-89cf-baa1d7ee244b",
   "metadata": {},
   "source": [
    "Week 1: Analyze the IRIS dataset to identify which two attributes exhibit a linear relationship."
   ]
  },
  {
   "cell_type": "code",
   "execution_count": 1,
   "id": "bcf24cb1-2efa-40e7-97bd-fd806c3b0787",
   "metadata": {},
   "outputs": [],
   "source": [
    "import pandas as pd\n",
    "import matplotlib.pyplot as plt\n",
    "import numpy as np\n",
    "import seaborn as sns\n"
   ]
  },
  {
   "cell_type": "code",
   "execution_count": 2,
   "id": "65d79750-882d-47ab-9cc5-39892e4ad140",
   "metadata": {},
   "outputs": [],
   "source": [
    "data=pd.read_excel(\"iris - iris.xlsx\")"
   ]
  },
  {
   "cell_type": "code",
   "execution_count": null,
   "id": "0d3cf671-00d8-4628-87ef-deb8182aeaa2",
   "metadata": {},
   "outputs": [],
   "source": [
    "print(data)"
   ]
  },
  {
   "cell_type": "code",
   "execution_count": null,
   "id": "d9189a94-b757-4ff6-ae33-101459c1b30b",
   "metadata": {},
   "outputs": [],
   "source": [
    "sns.pairplot(data)\n",
    "plt.show()"
   ]
  },
  {
   "cell_type": "code",
   "execution_count": null,
   "id": "43cd6945-6f50-4adf-a10d-eb9fa886b77d",
   "metadata": {},
   "outputs": [],
   "source": [
    "a=data['sepal.length']\n",
    "b=data['sepal.width']\n",
    "c=data['petal.length']\n",
    "d=data['petal.width']\n",
    "e=data['variety']\n"
   ]
  },
  {
   "cell_type": "code",
   "execution_count": null,
   "id": "41ed4018-9b9e-47a7-ba56-4275c2039144",
   "metadata": {},
   "outputs": [],
   "source": [
    "plt.plot(a,b)"
   ]
  },
  {
   "cell_type": "code",
   "execution_count": null,
   "id": "275b0657-cb9c-4442-81af-b74d50b4124f",
   "metadata": {},
   "outputs": [],
   "source": [
    "plt.plot(a,c)"
   ]
  },
  {
   "cell_type": "code",
   "execution_count": null,
   "id": "ec994e0d-7daf-4932-a6c0-283c5d143faa",
   "metadata": {},
   "outputs": [],
   "source": [
    "plt.plot(a,d)"
   ]
  },
  {
   "cell_type": "code",
   "execution_count": null,
   "id": "88a4f352-d9ad-483f-a72c-c1f00f7016b7",
   "metadata": {},
   "outputs": [],
   "source": [
    "plt.plot(a,e)"
   ]
  },
  {
   "cell_type": "code",
   "execution_count": null,
   "id": "81c0463d-afbb-45f6-8e75-2e0be75e085c",
   "metadata": {},
   "outputs": [],
   "source": []
  }
 ],
 "metadata": {
  "kernelspec": {
   "display_name": "Python 3 (ipykernel)",
   "language": "python",
   "name": "python3"
  },
  "language_info": {
   "codemirror_mode": {
    "name": "ipython",
    "version": 3
   },
   "file_extension": ".py",
   "mimetype": "text/x-python",
   "name": "python",
   "nbconvert_exporter": "python",
   "pygments_lexer": "ipython3",
   "version": "3.12.4"
  }
 },
 "nbformat": 4,
 "nbformat_minor": 5
}
