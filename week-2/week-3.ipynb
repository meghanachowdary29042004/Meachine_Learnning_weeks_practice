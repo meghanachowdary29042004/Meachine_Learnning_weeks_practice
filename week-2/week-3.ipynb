{
 "cells": [
  {
   "cell_type": "code",
   "execution_count": 55,
   "id": "ad292f35-17c8-491f-9f3b-246dff8193bd",
   "metadata": {},
   "outputs": [],
   "source": [
    "import numpy as np"
   ]
  },
  {
   "cell_type": "code",
   "execution_count": 60,
   "id": "4bd7c820-5fbb-4732-bbab-657d52617846",
   "metadata": {},
   "outputs": [],
   "source": [
    "def linear_regression_params(x_values, y_values):\n",
    "   \n",
    "    x_values = np.array(x_values)\n",
    "    y_values = np.array(y_values)\n",
    "    \n",
    "    # Calculate means\n",
    "    n = len(x_values)\n",
    "    mx = np.sum(x_values) / n\n",
    "    nn = len(y_values)\n",
    "    my = np.sum(y_values) / nn\n",
    "    \n",
    "    # Compute deviations\n",
    "    d = x_values - mx\n",
    "    dd = y_values - my\n",
    "    \n",
    "    # Compute sums\n",
    "    ds = d * d\n",
    "    mul = d * dd\n",
    "    sumt = np.sum(mul)\n",
    "    sumb = np.sum(ds)\n",
    "    \n",
    "    # Compute b1 and b0\n",
    "    b1 = sumt / sumb\n",
    "    b0 = my - (b1 * mx)\n",
    "    \n",
    "    return b0, b1"
   ]
  },
  {
   "cell_type": "code",
   "execution_count": 61,
   "id": "169a07bd-4790-41b3-9b20-799ce164d982",
   "metadata": {},
   "outputs": [
    {
     "name": "stdin",
     "output_type": "stream",
     "text": [
      "Enter a list of x values (comma-separated):  1,2,3,4\n",
      "Enter a list of y values (comma-separated):  1,4,9,16\n"
     ]
    },
    {
     "name": "stdout",
     "output_type": "stream",
     "text": [
      "b0: -5.0\n",
      "b1: 5.0\n"
     ]
    }
   ],
   "source": [
    "\n",
    "# Get user input for x_values\n",
    "x_input = input(\"Enter a list of x values (comma-separated): \")\n",
    "x_values = np.array([float(x) for x in x_input.split(\",\")])\n",
    "\n",
    "# Get user input for y_values\n",
    "y_input = input(\"Enter a list of y values (comma-separated): \")\n",
    "y_values = np.array([float(y) for y in y_input.split(\",\")])\n",
    "\n",
    "b0, b1 = linear_regression_params(x_values, y_values)\n",
    "print(\"b0:\", b0)\n",
    "print(\"b1:\", b1)"
   ]
  },
  {
   "cell_type": "code",
   "execution_count": null,
   "id": "5e28098d-e3ac-4ec3-ae47-b38afa163628",
   "metadata": {},
   "outputs": [],
   "source": []
  }
 ],
 "metadata": {
  "kernelspec": {
   "display_name": "Python 3 (ipykernel)",
   "language": "python",
   "name": "python3"
  },
  "language_info": {
   "codemirror_mode": {
    "name": "ipython",
    "version": 3
   },
   "file_extension": ".py",
   "mimetype": "text/x-python",
   "name": "python",
   "nbconvert_exporter": "python",
   "pygments_lexer": "ipython3",
   "version": "3.12.4"
  }
 },
 "nbformat": 4,
 "nbformat_minor": 5
}
